{
 "cells": [
  {
   "cell_type": "code",
   "outputs": [],
   "source": [
    "import torch\n",
    "from transformers import AutoTokenizer, AutoModelForTokenClassification\n",
    "from torch.utils.data import DataLoader, IterableDataset"
   ],
   "metadata": {
    "collapsed": false
   },
   "id": "77eb00d5d488bd0c"
  },
  {
   "cell_type": "code",
   "execution_count": null,
   "id": "initial_id",
   "metadata": {
    "collapsed": true
   },
   "outputs": [],
   "source": [
    "class TokenizedExamplesDataset(IterableDataset):\n",
    "    def __init__(self, examples):\n",
    "        self.examples = examples\n",
    "\n",
    "    def __iter__(self):\n",
    "        return iter(self.examples)\n",
    "\n",
    "    def __len__(self):\n",
    "        return len(self.examples)\n",
    "\n",
    "class InferenceModel:\n",
    "    def __init__(self, model_path, stride=0.8, use_sliding_window=True, batch_size=1, device=\"cpu\"):\n",
    "        self.tokenizer = AutoTokenizer.from_pretrained(model_path)\n",
    "        self.model = AutoModelForTokenClassification.from_pretrained(model_path).to(device)\n",
    "        self.model.eval()\n",
    "\n",
    "        self.use_sliding_window = use_sliding_window\n",
    "        self.stride = stride\n",
    "        self.batch_size = batch_size\n",
    "        self.device = device\n",
    "        self.fp16 = device != \"cpu\"\n",
    "\n",
    "        if self.fp16:\n",
    "            self._check_fp16_support()\n",
    "\n",
    "    def _check_fp16_support(self):\n",
    "        try:\n",
    "            from torch.cuda import amp\n",
    "        except ImportError as e:\n",
    "            print(\"FP16 not supported: \", e)\n",
    "            self.fp16 = False\n",
    "\n",
    "    def prepare_examples(self, texts):\n",
    "        tokenized_examples = []\n",
    "        for text in texts:\n",
    "            # Encode each text to input IDs and attention mask tensors, add special tokens\n",
    "            encoded_text = self.tokenizer.encode_plus(text, add_special_tokens=True, return_tensors='pt')\n",
    "            tokenized_examples.append(encoded_text)\n",
    "        return TokenizedExamplesDataset(tokenized_examples)\n",
    "\n",
    "    def predict(self, texts):\n",
    "        dataset = self.prepare_examples(texts)\n",
    "        predictions = []\n",
    "        for batch in DataLoader(dataset, batch_size=self.batch_size):\n",
    "            batch = {key: val.to(self.device) for key, val in batch.items()}\n",
    "            with torch.no_grad(), torch.cuda.amp.autocast(enabled=self.fp16):\n",
    "                outputs = self.model(**batch)\n",
    "                logits = outputs[0]\n",
    "                predictions.extend(torch.argmax(logits, dim=-1).cpu().numpy())\n",
    "        return predictions"
   ]
  },
  {
   "cell_type": "code",
   "outputs": [],
   "source": [
    "# Configuration variables\n",
    "model_path = \"path_to_model_directory\"\n",
    "input_file = \"path_to_input_file.tsv\"\n",
    "output_file = \"path_to_output_file.tsv\"\n",
    "\n",
    "# Instantiate model\n",
    "model = InferenceModel(model_path)\n",
    "\n",
    "# Reading and processing input\n",
    "with open(input_file, 'r') as file:\n",
    "    texts = [line.strip().split('\\t')[1] for line in file if line.strip()]\n",
    "\n",
    "# Predicting\n",
    "predictions, _, _ = model.predict(texts)\n",
    "\n",
    "# Writing predictions to output file\n",
    "with open(output_file, 'w') as file:\n",
    "    for pred in predictions:\n",
    "        file.write(f'{pred}\\n')"
   ],
   "metadata": {
    "collapsed": false
   },
   "id": "760913e53f265c51"
  }
 ],
 "metadata": {
  "kernelspec": {
   "display_name": "Python 3",
   "language": "python",
   "name": "python3"
  },
  "language_info": {
   "codemirror_mode": {
    "name": "ipython",
    "version": 2
   },
   "file_extension": ".py",
   "mimetype": "text/x-python",
   "name": "python",
   "nbconvert_exporter": "python",
   "pygments_lexer": "ipython2",
   "version": "2.7.6"
  }
 },
 "nbformat": 4,
 "nbformat_minor": 5
}
